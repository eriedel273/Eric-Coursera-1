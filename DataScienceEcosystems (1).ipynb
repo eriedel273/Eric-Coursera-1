{
 "cells": [
  {
   "cell_type": "markdown",
   "id": "2ccf3258-1492-4174-9a47-2ab45f211fd4",
   "metadata": {},
   "source": [
    "# Data Science Tools and Ecosystems\n",
    "## In this notebook, Data Science Tools and Ecosystem are summarized.\n",
    "### _Objectives_\n",
    "### * Listing popular languages.\n",
    "### * Listing common libraries.\n",
    "### * Listing common data science tools.\n",
    "### * Demonstrating simple arithmetic operations.\n",
    "### Some of the popular data science languages used by data scientists are:\n",
    "### 1. Python\n",
    "### 2. R\n",
    "### 3. SQL\n",
    "### Some of the commonly used libraries used by data scientists include:\n",
    "### 1. Matplotlab\n",
    "### 2. Keras\n",
    "### 3. Pandas\n",
    "\n",
    "|Data Science Tools|\n",
    "|----|\n",
    "|Tableau|\n",
    "|Power BI|\n",
    "|Excel|\n",
    "\n",
    "### Below are a few examples of arithmetic expressions in Python.\n",
    "\n",
    "### This is a simple arithmetic program to multiple then add integers.\n"
   ]
  },
  {
   "cell_type": "code",
   "execution_count": 8,
   "id": "aae9c2ba-afbe-460c-a5dc-af0861e0fdd5",
   "metadata": {
    "tags": []
   },
   "outputs": [
    {
     "data": {
      "text/plain": [
       "17"
      ]
     },
     "execution_count": 8,
     "metadata": {},
     "output_type": "execute_result"
    }
   ],
   "source": [
    "(3 * 4) + 5"
   ]
  },
  {
   "cell_type": "code",
   "execution_count": 9,
   "id": "cef6b27f-d655-44f4-8a1f-865bb1f148ee",
   "metadata": {
    "tags": []
   },
   "outputs": [
    {
     "data": {
      "text/plain": [
       "3.3333333333333335"
      ]
     },
     "execution_count": 9,
     "metadata": {},
     "output_type": "execute_result"
    }
   ],
   "source": [
    "### This will turn minutes into hours by dividing 200 by 60.\n",
    "200 / 60\n"
   ]
  },
  {
   "cell_type": "markdown",
   "id": "a0410cb7-af67-4d11-907e-dc785173500d",
   "metadata": {},
   "source": [
    "## Author\n",
    "## Eric Riedel"
   ]
  }
 ],
 "metadata": {
  "kernelspec": {
   "display_name": "Python",
   "language": "python",
   "name": "conda-env-python-py"
  },
  "language_info": {
   "codemirror_mode": {
    "name": "ipython",
    "version": 3
   },
   "file_extension": ".py",
   "mimetype": "text/x-python",
   "name": "python",
   "nbconvert_exporter": "python",
   "pygments_lexer": "ipython3",
   "version": "3.7.12"
  }
 },
 "nbformat": 4,
 "nbformat_minor": 5
}
